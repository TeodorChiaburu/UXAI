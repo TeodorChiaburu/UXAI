{
 "cells": [
  {
   "cell_type": "markdown",
   "id": "5bfa74b2-1ec4-4575-bbbb-f7367314b7f5",
   "metadata": {},
   "source": [
    "## Uncertainty in Explanations via Input Perturbation"
   ]
  },
  {
   "cell_type": "code",
   "execution_count": 1,
   "id": "f395da0b-08fc-457a-81d7-88806617dca6",
   "metadata": {},
   "outputs": [],
   "source": [
    "import numpy as np\n",
    "import tensorflow as tf\n",
    "from tensorflow.keras import layers, models\n",
    "from xplique.attributions import Lime, Saliency\n",
    "from skimage.color import gray2rgb\n",
    "import matplotlib.pyplot as plt"
   ]
  },
  {
   "cell_type": "code",
   "execution_count": 2,
   "id": "aa5319c6-5460-4a36-87db-c996d4eac0dc",
   "metadata": {},
   "outputs": [],
   "source": [
    "# Load and Prepare MNIST Dataset\n",
    "(x_train, y_train), (x_test, y_test) = tf.keras.datasets.mnist.load_data()\n",
    "x_train, x_test = x_train / 255.0, x_test / 255.0  # Normalize to [0, 1]\n",
    "x_train = x_train[..., np.newaxis]\n",
    "x_test = x_test[..., np.newaxis]"
   ]
  },
  {
   "cell_type": "code",
   "execution_count": 3,
   "id": "00e59e2c-d875-47da-ad3e-c3f2d5663dcf",
   "metadata": {},
   "outputs": [
    {
     "name": "stdout",
     "output_type": "stream",
     "text": [
      "Epoch 1/2\n",
      "704/704 [==============================] - 18s 26ms/step - loss: 0.2165 - accuracy: 0.9360 - val_loss: 0.0733 - val_accuracy: 0.9780\n",
      "Epoch 2/2\n",
      "704/704 [==============================] - 19s 26ms/step - loss: 0.0611 - accuracy: 0.9807 - val_loss: 0.0585 - val_accuracy: 0.9823\n"
     ]
    },
    {
     "data": {
      "text/plain": [
       "<tensorflow.python.keras.callbacks.History at 0x11a99fe1d00>"
      ]
     },
     "execution_count": 3,
     "metadata": {},
     "output_type": "execute_result"
    }
   ],
   "source": [
    "# Build and train a simple CNN\n",
    "model = models.Sequential([\n",
    "    layers.Conv2D(32, (3, 3), activation='relu', input_shape=(28, 28, 1)),\n",
    "    layers.MaxPooling2D((2, 2)),\n",
    "    layers.Conv2D(64, (3, 3), activation='relu'),\n",
    "    layers.MaxPooling2D((2, 2)),\n",
    "    layers.Flatten(),\n",
    "    layers.Dense(64, activation='relu'),\n",
    "    layers.Dense(10, activation='softmax'),\n",
    "])\n",
    "\n",
    "model.compile(optimizer='adam', loss='sparse_categorical_crossentropy', metrics=['accuracy'])\n",
    "model.fit(x_train, y_train, epochs=2, batch_size=64, validation_split=0.25)"
   ]
  },
  {
   "cell_type": "code",
   "execution_count": 5,
   "id": "812863c2-6116-4392-8c14-d90aa16ab9d3",
   "metadata": {},
   "outputs": [
    {
     "name": "stdout",
     "output_type": "stream",
     "text": [
      "Model: \"sequential\"\n",
      "_________________________________________________________________\n",
      "Layer (type)                 Output Shape              Param #   \n",
      "=================================================================\n",
      "conv2d (Conv2D)              (None, 26, 26, 32)        320       \n",
      "_________________________________________________________________\n",
      "max_pooling2d (MaxPooling2D) (None, 13, 13, 32)        0         \n",
      "_________________________________________________________________\n",
      "conv2d_1 (Conv2D)            (None, 11, 11, 64)        18496     \n",
      "_________________________________________________________________\n",
      "max_pooling2d_1 (MaxPooling2 (None, 5, 5, 64)          0         \n",
      "_________________________________________________________________\n",
      "flatten (Flatten)            (None, 1600)              0         \n",
      "_________________________________________________________________\n",
      "dense (Dense)                (None, 64)                102464    \n",
      "_________________________________________________________________\n",
      "dense_1 (Dense)              (None, 10)                650       \n",
      "=================================================================\n",
      "Total params: 121,930\n",
      "Trainable params: 121,930\n",
      "Non-trainable params: 0\n",
      "_________________________________________________________________\n"
     ]
    }
   ],
   "source": [
    "model.summary()"
   ]
  },
  {
   "cell_type": "code",
   "execution_count": 4,
   "id": "9c8369df-32e4-461f-a5ed-c728b3e6330c",
   "metadata": {},
   "outputs": [
    {
     "data": {
      "text/plain": [
       "<tf.Tensor: shape=(10000, 10), dtype=float32, numpy=\n",
       "array([[9.11252229e-08, 2.33818440e-07, 2.98176947e-05, ...,\n",
       "        9.99772727e-01, 1.50857818e-06, 2.49414788e-05],\n",
       "       [1.31897605e-05, 8.43362126e-04, 9.99136269e-01, ...,\n",
       "        5.54951152e-09, 4.90966795e-06, 4.25192798e-11],\n",
       "       [8.22710444e-06, 9.99506235e-01, 2.83842019e-05, ...,\n",
       "        1.58670024e-04, 2.05778761e-05, 6.12699841e-06],\n",
       "       ...,\n",
       "       [1.22070809e-09, 5.00141778e-06, 2.57397131e-10, ...,\n",
       "        7.92687501e-07, 2.29404986e-06, 2.65834533e-05],\n",
       "       [1.17590916e-05, 6.91008717e-09, 1.01261914e-08, ...,\n",
       "        2.37504487e-08, 3.76583135e-04, 6.90670788e-07],\n",
       "       [1.45348249e-05, 1.98838235e-09, 1.62588531e-05, ...,\n",
       "        3.34690109e-10, 1.43065899e-05, 1.60272577e-08]], dtype=float32)>"
      ]
     },
     "execution_count": 4,
     "metadata": {},
     "output_type": "execute_result"
    }
   ],
   "source": [
    "model(x_test)"
   ]
  },
  {
   "cell_type": "code",
   "execution_count": 29,
   "id": "8b79cca8-dd09-4149-bc6e-675ce1dc8e66",
   "metadata": {},
   "outputs": [],
   "source": [
    "# Explain sample prediction\n",
    "sample_index = 0\n",
    "sample_image, sample_label = x_test[sample_index], y_test[sample_index]\n",
    "#sample_image = gray2rgb(sample_image.squeeze())  # LIME expects RGB images\n",
    "sample_image = np.expand_dims(sample_image, axis=0)\n",
    "sample_label = np.expand_dims(sample_label, axis=0)\n",
    "\n",
    "model.layers[-1].activation = tf.keras.activations.linear\n",
    "explainer = Saliency(model)\n",
    "#explainer = Lime(model)\n",
    "explanation = explainer.explain(sample_image, sample_label)"
   ]
  },
  {
   "cell_type": "code",
   "execution_count": 30,
   "id": "ee27a248-8322-4548-ad64-dcfa38b30325",
   "metadata": {},
   "outputs": [
    {
     "data": {
      "image/png": "[encoded data removed]",
      "text/plain": [
       "<Figure size 640x480 with 2 Axes>"
      ]
     },
     "metadata": {},
     "output_type": "display_data"
    }
   ],
   "source": [
    "# Display explanation\n",
    "plt.subplot(121)\n",
    "plt.imshow(sample_image.squeeze()) # shape (1, 28, 28, 1)\n",
    "plt.title(\"Original\")\n",
    "plt.subplot(122)\n",
    "plt.imshow(explanation.squeeze()) # shape (1, 28, 28)\n",
    "plt.title(\"Explanation\")\n",
    "#plt.colorbar()\n",
    "plt.show()"
   ]
  },
  {
   "cell_type": "code",
   "execution_count": 37,
   "id": "118c671e-456d-45da-8601-2736dd2ec88e",
   "metadata": {},
   "outputs": [],
   "source": [
    "# Compute gradient of explanation w.r.t input via FEM\n",
    "h=1e-4\n",
    "sample_image = sample_image.squeeze()\n",
    "gradients = np.zeros_like(sample_image)\n",
    "\n",
    "for i in range(sample_image.shape[0]):\n",
    "    for j in range(sample_image.shape[1]):\n",
    "        # Perturb pixel (i, j)\n",
    "        perturbed_image = np.copy(sample_image)\n",
    "        perturbed_image[i, j] += h\n",
    "        #perturbed_image = np.clip(perturbed_image, 0, 1)\n",
    "\n",
    "        # Compute explanation for perturbed image\n",
    "        perturbed_explanation = explainer.explain(np.expand_dims(perturbed_image, axis=[0,3]), sample_label)\n",
    "\n",
    "        # Compute finite difference gradient\n",
    "        gradients[i, j] = (perturbed_explanation[0, i, j] - explanation[0, i, j]) / h"
   ]
  },
  {
   "cell_type": "markdown",
   "id": "9110a0f3-1161-42e7-8c8c-3c2daeca9052",
   "metadata": {},
   "source": [
    "$$Var(e(\\widetilde{x},\\hat{y})) \\approx \\nabla_x e(x,\\hat{y})^T \\cdot \\Sigma_{\\Delta x} \\cdot \\nabla_x e(x,\\hat{y})$$\n",
    "\n",
    "Wenn die Störung im Input normal verteilt ist, dann ist die Kovarianzmatrix diagonal und alle EWe sind gleich:\n",
    "\n",
    "$$\\Delta x \\sim \\mathcal{N}(0, \\sigma^2 I), \\Sigma_{\\Delta x} = \\sigma^2 I$$\n",
    "\n",
    "(Sonst diagonalisiere...)\n",
    "\n",
    "Es heißt, die Varianz in der Erklärung wird:\n",
    "\n",
    "$$Var(e(\\widetilde{x},\\hat{y})) \\approx \\sigma^2 ||\\nabla_x e(x,\\hat{y})||_2^2$$"
   ]
  },
  {
   "cell_type": "code",
   "execution_count": 39,
   "id": "b6d3f0cd-ab3b-4721-9fc5-3a3f78f48653",
   "metadata": {},
   "outputs": [
    {
     "name": "stdout",
     "output_type": "stream",
     "text": [
      "Variance of Explanation (Analytical): 4.1680738050708984e-07\n"
     ]
    }
   ],
   "source": [
    "# Compute variance of explanation\n",
    "perturbation_std = 0.1\n",
    "sigma_squared = perturbation_std ** 2\n",
    "variance_explanation = sigma_squared * np.sum(gradients ** 2)\n",
    "\n",
    "print(\"Variance of Explanation (Analytical):\", variance_explanation)"
   ]
  },
  {
   "cell_type": "code",
   "execution_count": 41,
   "id": "d9013d77-7f9c-4a46-a608-acbef5b0caf3",
   "metadata": {},
   "outputs": [
    {
     "data": {
      "image/png": "[encoded data removed]",
      "text/plain": [
       "<Figure size 640x480 with 2 Axes>"
      ]
     },
     "metadata": {},
     "output_type": "display_data"
    }
   ],
   "source": [
    "# Visualize the gradient for insight\n",
    "plt.imshow(np.abs(gradients.squeeze()), cmap='hot')\n",
    "plt.title(\"Gradient of Explanation w.r.t Input\")\n",
    "plt.colorbar()\n",
    "plt.show()"
   ]
  }
 ],
 "metadata": {
  "kernelspec": {
   "display_name": "tf2_xplique",
   "language": "python",
   "name": "tf2_xplique"
  },
  "language_info": {
   "codemirror_mode": {
    "name": "ipython",
    "version": 3
   },
   "file_extension": ".py",
   "mimetype": "text/x-python",
   "name": "python",
   "nbconvert_exporter": "python",
   "pygments_lexer": "ipython3",
   "version": "3.8.8"
  }
 },
 "nbformat": 4,
 "nbformat_minor": 5
}
